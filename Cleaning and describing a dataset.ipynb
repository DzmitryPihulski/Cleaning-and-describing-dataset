{
 "cells": [
  {
   "cell_type": "markdown",
   "metadata": {},
   "source": [
    "# Cleaning and describing a dataset"
   ]
  },
  {
   "cell_type": "markdown",
   "metadata": {},
   "source": [
    "# Contents\n",
    "1. Introduction\n",
    "2. Cleaning and preparing data\n",
    "3. Data description\n",
    "4. Conclution"
   ]
  },
  {
   "cell_type": "markdown",
   "metadata": {},
   "source": [
    "# 1. Introduction\n",
    "\n",
    "That is the pet-project for cleaning and describing data with the help of the pandas python library. All illustrations in this project were made with the help of the matplotlib python library.<br> Data sample was got on kaggle.com: https://www.kaggle.com/datasets/teamincribo/financial-transactions.<br><br>\n",
    "The data sample is an excel file with the list of fictional financial transactions.<br> Let's see first the head of the file (first 5 rows)."
   ]
  },
  {
   "cell_type": "code",
   "execution_count": 1,
   "metadata": {},
   "outputs": [
    {
     "name": "stdout",
     "output_type": "stream",
     "text": [
      "Skipping, found downloaded files in \".\\financial-transactions\" (use force=True to force download)\n"
     ]
    },
    {
     "data": {
      "text/html": [
       "<div>\n",
       "<style scoped>\n",
       "    .dataframe tbody tr th:only-of-type {\n",
       "        vertical-align: middle;\n",
       "    }\n",
       "\n",
       "    .dataframe tbody tr th {\n",
       "        vertical-align: top;\n",
       "    }\n",
       "\n",
       "    .dataframe thead th {\n",
       "        text-align: right;\n",
       "    }\n",
       "</style>\n",
       "<table border=\"1\" class=\"dataframe\">\n",
       "  <thead>\n",
       "    <tr style=\"text-align: right;\">\n",
       "      <th></th>\n",
       "      <th>Transaction ID</th>\n",
       "      <th>Date</th>\n",
       "      <th>Currency</th>\n",
       "      <th>Sender</th>\n",
       "      <th>Receiver</th>\n",
       "      <th>Amount</th>\n",
       "      <th>Fee</th>\n",
       "      <th>Type</th>\n",
       "    </tr>\n",
       "  </thead>\n",
       "  <tbody>\n",
       "    <tr>\n",
       "      <th>0</th>\n",
       "      <td>TX001</td>\n",
       "      <td>2023-05-01</td>\n",
       "      <td>Auric</td>\n",
       "      <td>John Goldsmith</td>\n",
       "      <td>Sarah Gilded</td>\n",
       "      <td>100 Auric</td>\n",
       "      <td>2 Auric</td>\n",
       "      <td>Purchase</td>\n",
       "    </tr>\n",
       "    <tr>\n",
       "      <th>1</th>\n",
       "      <td>TX002</td>\n",
       "      <td>2023-05-02</td>\n",
       "      <td>Electra</td>\n",
       "      <td>Olivia Current</td>\n",
       "      <td>Ethan Charge</td>\n",
       "      <td>500 Electra</td>\n",
       "      <td>10 Electra</td>\n",
       "      <td>Transfer</td>\n",
       "    </tr>\n",
       "    <tr>\n",
       "      <th>2</th>\n",
       "      <td>TX003</td>\n",
       "      <td>2023-05-03</td>\n",
       "      <td>Zentia</td>\n",
       "      <td>Ava Zenith</td>\n",
       "      <td>Leo Zenith</td>\n",
       "      <td>200 Zentia</td>\n",
       "      <td>5 Zentia</td>\n",
       "      <td>Payment</td>\n",
       "    </tr>\n",
       "    <tr>\n",
       "      <th>3</th>\n",
       "      <td>TX004</td>\n",
       "      <td>2023-05-05</td>\n",
       "      <td>Lumina</td>\n",
       "      <td>Luna Radiance</td>\n",
       "      <td>Sol Bright</td>\n",
       "      <td>50 Lumina</td>\n",
       "      <td>1 Lumina</td>\n",
       "      <td>Purchase</td>\n",
       "    </tr>\n",
       "    <tr>\n",
       "      <th>4</th>\n",
       "      <td>TX005</td>\n",
       "      <td>2023-05-06</td>\n",
       "      <td>Auric</td>\n",
       "      <td>Michael Goldsmith</td>\n",
       "      <td>Emma Gilded</td>\n",
       "      <td>75 Auric</td>\n",
       "      <td>2 Auric</td>\n",
       "      <td>Transfer</td>\n",
       "    </tr>\n",
       "  </tbody>\n",
       "</table>\n",
       "</div>"
      ],
      "text/plain": [
       "  Transaction ID        Date Currency             Sender      Receiver  \\\n",
       "0          TX001  2023-05-01    Auric     John Goldsmith  Sarah Gilded   \n",
       "1          TX002  2023-05-02  Electra     Olivia Current  Ethan Charge   \n",
       "2          TX003  2023-05-03   Zentia         Ava Zenith    Leo Zenith   \n",
       "3          TX004  2023-05-05   Lumina      Luna Radiance    Sol Bright   \n",
       "4          TX005  2023-05-06    Auric  Michael Goldsmith   Emma Gilded   \n",
       "\n",
       "        Amount         Fee      Type  \n",
       "0    100 Auric     2 Auric  Purchase  \n",
       "1  500 Electra  10 Electra  Transfer  \n",
       "2   200 Zentia    5 Zentia   Payment  \n",
       "3    50 Lumina    1 Lumina  Purchase  \n",
       "4     75 Auric     2 Auric  Transfer  "
      ]
     },
     "execution_count": 1,
     "metadata": {},
     "output_type": "execute_result"
    }
   ],
   "source": [
    "#import libraries\n",
    "import pandas as pd\n",
    "import matplotlib.pyplot as plt\n",
    "import opendatasets as od\n",
    "\n",
    "#downaload from kaggle with the help of API\n",
    "od.download(\n",
    "    \"https://www.kaggle.com/datasets/teamincribo/financial-transactions\")\n",
    "\n",
    "#read file\n",
    "df=pd.read_csv('financial-transactions/combined_fictional_financial_transactions.csv')\n",
    "df.head()"
   ]
  },
  {
   "cell_type": "markdown",
   "metadata": {},
   "source": [
    "# 2. Cleaning and preparing data"
   ]
  },
  {
   "cell_type": "markdown",
   "metadata": {},
   "source": [
    "Before any operations with the data, let's see information about the file."
   ]
  },
  {
   "cell_type": "code",
   "execution_count": 14,
   "metadata": {},
   "outputs": [
    {
     "name": "stdout",
     "output_type": "stream",
     "text": [
      "<class 'pandas.core.frame.DataFrame'>\n",
      "RangeIndex: 1110 entries, 0 to 1109\n",
      "Data columns (total 8 columns):\n",
      " #   Column          Non-Null Count  Dtype \n",
      "---  ------          --------------  ----- \n",
      " 0   Transaction ID  1110 non-null   object\n",
      " 1   Date            1110 non-null   object\n",
      " 2   Currency        1110 non-null   object\n",
      " 3   Sender          1110 non-null   object\n",
      " 4   Receiver        1110 non-null   object\n",
      " 5   Amount          1110 non-null   object\n",
      " 6   Fee             1110 non-null   object\n",
      " 7   Type            1110 non-null   object\n",
      "dtypes: object(8)\n",
      "memory usage: 69.5+ KB\n"
     ]
    }
   ],
   "source": [
    "#information about the file\n",
    "df.info()"
   ]
  },
  {
   "cell_type": "markdown",
   "metadata": {},
   "source": [
    "As you can see, we have 1110 rows and 8 columns.<br> Also, we can mention in the head of the file above, that the currency of <b>Amount</b> and <b>Fee</b> columns are the same as in <b>Currency</b> column.<br>\n",
    "So let's check, do we have the same trend in the entire file?"
   ]
  },
  {
   "cell_type": "code",
   "execution_count": 15,
   "metadata": {},
   "outputs": [
    {
     "name": "stdout",
     "output_type": "stream",
     "text": [
      "The number of rows where Amount and Fee columns have the same currency as Currency column is:  1110 . That is the entire file.\n"
     ]
    }
   ],
   "source": [
    "#extractin currency of Amount and Fee coulumn and compare to Currency column\n",
    "df['Amount Currency']=df['Amount'].str.extract('([A-z]+)')\n",
    "df['Fee Currency']=df['Fee'].str.extract('([A-z]+)')\n",
    "df['Checker']=((df['Currency']==df['Amount Currency']) & (df['Currency']==df['Fee Currency']))\n",
    "print('The number of rows where Amount and Fee columns have the same currency as Currency column is: ',df['Checker'].count(),'. That is the entire file.')\n",
    "df=pd.read_csv('combined_fictional_financial_transactions.csv')\n"
   ]
  },
  {
   "cell_type": "markdown",
   "metadata": {},
   "source": [
    "Since we have the same currency, let's remove it from <b>Amount</b> and <b>Fee</b> columns."
   ]
  },
  {
   "cell_type": "code",
   "execution_count": 16,
   "metadata": {},
   "outputs": [
    {
     "data": {
      "text/html": [
       "<div>\n",
       "<style scoped>\n",
       "    .dataframe tbody tr th:only-of-type {\n",
       "        vertical-align: middle;\n",
       "    }\n",
       "\n",
       "    .dataframe tbody tr th {\n",
       "        vertical-align: top;\n",
       "    }\n",
       "\n",
       "    .dataframe thead th {\n",
       "        text-align: right;\n",
       "    }\n",
       "</style>\n",
       "<table border=\"1\" class=\"dataframe\">\n",
       "  <thead>\n",
       "    <tr style=\"text-align: right;\">\n",
       "      <th></th>\n",
       "      <th>Transaction ID</th>\n",
       "      <th>Date</th>\n",
       "      <th>Currency</th>\n",
       "      <th>Sender</th>\n",
       "      <th>Receiver</th>\n",
       "      <th>Amount</th>\n",
       "      <th>Fee</th>\n",
       "      <th>Type</th>\n",
       "    </tr>\n",
       "  </thead>\n",
       "  <tbody>\n",
       "    <tr>\n",
       "      <th>0</th>\n",
       "      <td>TX001</td>\n",
       "      <td>2023-05-01</td>\n",
       "      <td>Auric</td>\n",
       "      <td>John Goldsmith</td>\n",
       "      <td>Sarah Gilded</td>\n",
       "      <td>100</td>\n",
       "      <td>2</td>\n",
       "      <td>Purchase</td>\n",
       "    </tr>\n",
       "    <tr>\n",
       "      <th>1</th>\n",
       "      <td>TX002</td>\n",
       "      <td>2023-05-02</td>\n",
       "      <td>Electra</td>\n",
       "      <td>Olivia Current</td>\n",
       "      <td>Ethan Charge</td>\n",
       "      <td>500</td>\n",
       "      <td>10</td>\n",
       "      <td>Transfer</td>\n",
       "    </tr>\n",
       "    <tr>\n",
       "      <th>2</th>\n",
       "      <td>TX003</td>\n",
       "      <td>2023-05-03</td>\n",
       "      <td>Zentia</td>\n",
       "      <td>Ava Zenith</td>\n",
       "      <td>Leo Zenith</td>\n",
       "      <td>200</td>\n",
       "      <td>5</td>\n",
       "      <td>Payment</td>\n",
       "    </tr>\n",
       "    <tr>\n",
       "      <th>3</th>\n",
       "      <td>TX004</td>\n",
       "      <td>2023-05-05</td>\n",
       "      <td>Lumina</td>\n",
       "      <td>Luna Radiance</td>\n",
       "      <td>Sol Bright</td>\n",
       "      <td>50</td>\n",
       "      <td>1</td>\n",
       "      <td>Purchase</td>\n",
       "    </tr>\n",
       "    <tr>\n",
       "      <th>4</th>\n",
       "      <td>TX005</td>\n",
       "      <td>2023-05-06</td>\n",
       "      <td>Auric</td>\n",
       "      <td>Michael Goldsmith</td>\n",
       "      <td>Emma Gilded</td>\n",
       "      <td>75</td>\n",
       "      <td>2</td>\n",
       "      <td>Transfer</td>\n",
       "    </tr>\n",
       "  </tbody>\n",
       "</table>\n",
       "</div>"
      ],
      "text/plain": [
       "  Transaction ID        Date Currency             Sender      Receiver Amount  \\\n",
       "0          TX001  2023-05-01    Auric     John Goldsmith  Sarah Gilded    100   \n",
       "1          TX002  2023-05-02  Electra     Olivia Current  Ethan Charge    500   \n",
       "2          TX003  2023-05-03   Zentia         Ava Zenith    Leo Zenith    200   \n",
       "3          TX004  2023-05-05   Lumina      Luna Radiance    Sol Bright     50   \n",
       "4          TX005  2023-05-06    Auric  Michael Goldsmith   Emma Gilded     75   \n",
       "\n",
       "  Fee      Type  \n",
       "0   2  Purchase  \n",
       "1  10  Transfer  \n",
       "2   5   Payment  \n",
       "3   1  Purchase  \n",
       "4   2  Transfer  "
      ]
     },
     "execution_count": 16,
     "metadata": {},
     "output_type": "execute_result"
    }
   ],
   "source": [
    "df['Amount']=df['Amount'].str.extract('(\\d+)')\n",
    "df['Fee']=df['Fee'].str.extract('(\\d+)')\n",
    "df.head()"
   ]
  },
  {
   "cell_type": "markdown",
   "metadata": {},
   "source": [
    "We also do not need <b>Transaction ID</b>, since it is only TX and transaction number. Let's remove it either."
   ]
  },
  {
   "cell_type": "code",
   "execution_count": 17,
   "metadata": {},
   "outputs": [
    {
     "data": {
      "text/html": [
       "<div>\n",
       "<style scoped>\n",
       "    .dataframe tbody tr th:only-of-type {\n",
       "        vertical-align: middle;\n",
       "    }\n",
       "\n",
       "    .dataframe tbody tr th {\n",
       "        vertical-align: top;\n",
       "    }\n",
       "\n",
       "    .dataframe thead th {\n",
       "        text-align: right;\n",
       "    }\n",
       "</style>\n",
       "<table border=\"1\" class=\"dataframe\">\n",
       "  <thead>\n",
       "    <tr style=\"text-align: right;\">\n",
       "      <th></th>\n",
       "      <th>Date</th>\n",
       "      <th>Currency</th>\n",
       "      <th>Sender</th>\n",
       "      <th>Receiver</th>\n",
       "      <th>Amount</th>\n",
       "      <th>Fee</th>\n",
       "      <th>Type</th>\n",
       "    </tr>\n",
       "  </thead>\n",
       "  <tbody>\n",
       "    <tr>\n",
       "      <th>0</th>\n",
       "      <td>2023-05-01</td>\n",
       "      <td>Auric</td>\n",
       "      <td>John Goldsmith</td>\n",
       "      <td>Sarah Gilded</td>\n",
       "      <td>100</td>\n",
       "      <td>2</td>\n",
       "      <td>Purchase</td>\n",
       "    </tr>\n",
       "    <tr>\n",
       "      <th>1</th>\n",
       "      <td>2023-05-02</td>\n",
       "      <td>Electra</td>\n",
       "      <td>Olivia Current</td>\n",
       "      <td>Ethan Charge</td>\n",
       "      <td>500</td>\n",
       "      <td>10</td>\n",
       "      <td>Transfer</td>\n",
       "    </tr>\n",
       "    <tr>\n",
       "      <th>2</th>\n",
       "      <td>2023-05-03</td>\n",
       "      <td>Zentia</td>\n",
       "      <td>Ava Zenith</td>\n",
       "      <td>Leo Zenith</td>\n",
       "      <td>200</td>\n",
       "      <td>5</td>\n",
       "      <td>Payment</td>\n",
       "    </tr>\n",
       "    <tr>\n",
       "      <th>3</th>\n",
       "      <td>2023-05-05</td>\n",
       "      <td>Lumina</td>\n",
       "      <td>Luna Radiance</td>\n",
       "      <td>Sol Bright</td>\n",
       "      <td>50</td>\n",
       "      <td>1</td>\n",
       "      <td>Purchase</td>\n",
       "    </tr>\n",
       "    <tr>\n",
       "      <th>4</th>\n",
       "      <td>2023-05-06</td>\n",
       "      <td>Auric</td>\n",
       "      <td>Michael Goldsmith</td>\n",
       "      <td>Emma Gilded</td>\n",
       "      <td>75</td>\n",
       "      <td>2</td>\n",
       "      <td>Transfer</td>\n",
       "    </tr>\n",
       "  </tbody>\n",
       "</table>\n",
       "</div>"
      ],
      "text/plain": [
       "         Date Currency             Sender      Receiver Amount Fee      Type\n",
       "0  2023-05-01    Auric     John Goldsmith  Sarah Gilded    100   2  Purchase\n",
       "1  2023-05-02  Electra     Olivia Current  Ethan Charge    500  10  Transfer\n",
       "2  2023-05-03   Zentia         Ava Zenith    Leo Zenith    200   5   Payment\n",
       "3  2023-05-05   Lumina      Luna Radiance    Sol Bright     50   1  Purchase\n",
       "4  2023-05-06    Auric  Michael Goldsmith   Emma Gilded     75   2  Transfer"
      ]
     },
     "execution_count": 17,
     "metadata": {},
     "output_type": "execute_result"
    }
   ],
   "source": [
    "df.drop('Transaction ID',axis='columns', inplace=True)\n",
    "df.head()"
   ]
  },
  {
   "cell_type": "markdown",
   "metadata": {},
   "source": [
    "The next step will be converting certain columns in the necessary data type. As we can mention from the information above, each column now has an object data type.<br>\n",
    "Let's convert <b>Date</b> column to datetime type, <b>Amount</b> and <b>Fee</b> columns to integer type."
   ]
  },
  {
   "cell_type": "code",
   "execution_count": 18,
   "metadata": {},
   "outputs": [
    {
     "name": "stdout",
     "output_type": "stream",
     "text": [
      "<class 'pandas.core.frame.DataFrame'>\n",
      "RangeIndex: 1110 entries, 0 to 1109\n",
      "Data columns (total 7 columns):\n",
      " #   Column    Non-Null Count  Dtype         \n",
      "---  ------    --------------  -----         \n",
      " 0   Date      1110 non-null   datetime64[ns]\n",
      " 1   Currency  1110 non-null   object        \n",
      " 2   Sender    1110 non-null   object        \n",
      " 3   Receiver  1110 non-null   object        \n",
      " 4   Amount    1110 non-null   int32         \n",
      " 5   Fee       1110 non-null   int32         \n",
      " 6   Type      1110 non-null   object        \n",
      "dtypes: datetime64[ns](1), int32(2), object(4)\n",
      "memory usage: 52.2+ KB\n"
     ]
    }
   ],
   "source": [
    "\n",
    "df['Amount'] = df['Amount'].astype(int)\n",
    "df['Fee'] = df['Fee'].astype(int)\n",
    "df['Date']=pd.to_datetime(df['Date'])\n",
    "df.info()"
   ]
  },
  {
   "cell_type": "markdown",
   "metadata": {},
   "source": [
    "Now we have the right data type. The last step before the desciption part will be rearranging columns.<br>\n",
    "Also, let's sort the table by <b>Date</b> ascending and by <b>Amount</b> descending."
   ]
  },
  {
   "cell_type": "code",
   "execution_count": 19,
   "metadata": {},
   "outputs": [
    {
     "data": {
      "text/html": [
       "<div>\n",
       "<style scoped>\n",
       "    .dataframe tbody tr th:only-of-type {\n",
       "        vertical-align: middle;\n",
       "    }\n",
       "\n",
       "    .dataframe tbody tr th {\n",
       "        vertical-align: top;\n",
       "    }\n",
       "\n",
       "    .dataframe thead th {\n",
       "        text-align: right;\n",
       "    }\n",
       "</style>\n",
       "<table border=\"1\" class=\"dataframe\">\n",
       "  <thead>\n",
       "    <tr style=\"text-align: right;\">\n",
       "      <th></th>\n",
       "      <th>Date</th>\n",
       "      <th>Sender</th>\n",
       "      <th>Receiver</th>\n",
       "      <th>Amount</th>\n",
       "      <th>Fee</th>\n",
       "      <th>Currency</th>\n",
       "      <th>Type</th>\n",
       "    </tr>\n",
       "  </thead>\n",
       "  <tbody>\n",
       "    <tr>\n",
       "      <th>699</th>\n",
       "      <td>2023-01-01</td>\n",
       "      <td>Cameron Hunter</td>\n",
       "      <td>Kevin Ross</td>\n",
       "      <td>766</td>\n",
       "      <td>12</td>\n",
       "      <td>Lumina</td>\n",
       "      <td>Purchase</td>\n",
       "    </tr>\n",
       "    <tr>\n",
       "      <th>39</th>\n",
       "      <td>2023-01-01</td>\n",
       "      <td>Robert Oliver</td>\n",
       "      <td>Cynthia Shea</td>\n",
       "      <td>662</td>\n",
       "      <td>41</td>\n",
       "      <td>Electra</td>\n",
       "      <td>Purchase</td>\n",
       "    </tr>\n",
       "    <tr>\n",
       "      <th>1109</th>\n",
       "      <td>2023-01-01</td>\n",
       "      <td>Scott Smith</td>\n",
       "      <td>Michael Stanton</td>\n",
       "      <td>271</td>\n",
       "      <td>16</td>\n",
       "      <td>Lumina</td>\n",
       "      <td>Purchase</td>\n",
       "    </tr>\n",
       "    <tr>\n",
       "      <th>622</th>\n",
       "      <td>2023-01-02</td>\n",
       "      <td>Eric Munoz</td>\n",
       "      <td>Natasha Wilson</td>\n",
       "      <td>938</td>\n",
       "      <td>27</td>\n",
       "      <td>Zentia</td>\n",
       "      <td>Payment</td>\n",
       "    </tr>\n",
       "    <tr>\n",
       "      <th>1021</th>\n",
       "      <td>2023-01-02</td>\n",
       "      <td>Derek Larsen</td>\n",
       "      <td>Matthew Vargas</td>\n",
       "      <td>644</td>\n",
       "      <td>2</td>\n",
       "      <td>Auric</td>\n",
       "      <td>Purchase</td>\n",
       "    </tr>\n",
       "    <tr>\n",
       "      <th>...</th>\n",
       "      <td>...</td>\n",
       "      <td>...</td>\n",
       "      <td>...</td>\n",
       "      <td>...</td>\n",
       "      <td>...</td>\n",
       "      <td>...</td>\n",
       "      <td>...</td>\n",
       "    </tr>\n",
       "    <tr>\n",
       "      <th>1012</th>\n",
       "      <td>2023-08-27</td>\n",
       "      <td>Julian Clarke</td>\n",
       "      <td>Elizabeth Tran</td>\n",
       "      <td>599</td>\n",
       "      <td>35</td>\n",
       "      <td>Zentia</td>\n",
       "      <td>Purchase</td>\n",
       "    </tr>\n",
       "    <tr>\n",
       "      <th>918</th>\n",
       "      <td>2023-08-27</td>\n",
       "      <td>James Brown</td>\n",
       "      <td>John Rodriguez</td>\n",
       "      <td>280</td>\n",
       "      <td>16</td>\n",
       "      <td>Zentia</td>\n",
       "      <td>Transfer</td>\n",
       "    </tr>\n",
       "    <tr>\n",
       "      <th>84</th>\n",
       "      <td>2023-08-27</td>\n",
       "      <td>Leslie Wilson</td>\n",
       "      <td>Kelly Vargas</td>\n",
       "      <td>172</td>\n",
       "      <td>37</td>\n",
       "      <td>Lumina</td>\n",
       "      <td>Purchase</td>\n",
       "    </tr>\n",
       "    <tr>\n",
       "      <th>391</th>\n",
       "      <td>2023-08-27</td>\n",
       "      <td>Randy Nelson</td>\n",
       "      <td>Mitchell Bishop</td>\n",
       "      <td>121</td>\n",
       "      <td>48</td>\n",
       "      <td>Lumina</td>\n",
       "      <td>Payment</td>\n",
       "    </tr>\n",
       "    <tr>\n",
       "      <th>490</th>\n",
       "      <td>2023-08-27</td>\n",
       "      <td>Larry Hurley</td>\n",
       "      <td>Paul Ho</td>\n",
       "      <td>7</td>\n",
       "      <td>47</td>\n",
       "      <td>Zentia</td>\n",
       "      <td>Payment</td>\n",
       "    </tr>\n",
       "  </tbody>\n",
       "</table>\n",
       "<p>1110 rows × 7 columns</p>\n",
       "</div>"
      ],
      "text/plain": [
       "           Date          Sender         Receiver  Amount  Fee Currency  \\\n",
       "699  2023-01-01  Cameron Hunter       Kevin Ross     766   12   Lumina   \n",
       "39   2023-01-01   Robert Oliver     Cynthia Shea     662   41  Electra   \n",
       "1109 2023-01-01     Scott Smith  Michael Stanton     271   16   Lumina   \n",
       "622  2023-01-02      Eric Munoz   Natasha Wilson     938   27   Zentia   \n",
       "1021 2023-01-02    Derek Larsen   Matthew Vargas     644    2    Auric   \n",
       "...         ...             ...              ...     ...  ...      ...   \n",
       "1012 2023-08-27   Julian Clarke   Elizabeth Tran     599   35   Zentia   \n",
       "918  2023-08-27     James Brown   John Rodriguez     280   16   Zentia   \n",
       "84   2023-08-27   Leslie Wilson     Kelly Vargas     172   37   Lumina   \n",
       "391  2023-08-27    Randy Nelson  Mitchell Bishop     121   48   Lumina   \n",
       "490  2023-08-27    Larry Hurley          Paul Ho       7   47   Zentia   \n",
       "\n",
       "          Type  \n",
       "699   Purchase  \n",
       "39    Purchase  \n",
       "1109  Purchase  \n",
       "622    Payment  \n",
       "1021  Purchase  \n",
       "...        ...  \n",
       "1012  Purchase  \n",
       "918   Transfer  \n",
       "84    Purchase  \n",
       "391    Payment  \n",
       "490    Payment  \n",
       "\n",
       "[1110 rows x 7 columns]"
      ]
     },
     "execution_count": 19,
     "metadata": {},
     "output_type": "execute_result"
    }
   ],
   "source": [
    "cols = df.columns.values.tolist()\n",
    "df = df[cols[0:1] + cols[2:6]+[cols[1]]+[cols[6]]]\n",
    "df.sort_values(['Date','Amount'],ascending=[1,0])"
   ]
  },
  {
   "cell_type": "markdown",
   "metadata": {},
   "source": [
    "After that section, we have cleaned, sorted data.<br>Each column has the appropriate data type and we can move to the next section, in which we will describe what we see."
   ]
  },
  {
   "cell_type": "markdown",
   "metadata": {},
   "source": [
    "# 3. Describing data"
   ]
  },
  {
   "cell_type": "markdown",
   "metadata": {},
   "source": [
    "## 3.1 Basic statistics<br>\n",
    "In this part, I would like to give you basic information about the transactions we have.<br>\n",
    "Let's start with the average number of transactions per day. As we can see above, there is a time interval from 2023-01-01 to 2023-08-27. It is about 8 months."
   ]
  },
  {
   "cell_type": "code",
   "execution_count": 20,
   "metadata": {},
   "outputs": [
    {
     "name": "stdout",
     "output_type": "stream",
     "text": [
      "The average number of transactions per day is:  4.66 tran/day\n"
     ]
    }
   ],
   "source": [
    "Group_by_date=df.groupby('Date',as_index=False).count()\n",
    "average=Group_by_date['Sender'].sum()/Group_by_date['Sender'].count()\n",
    "print('The average number of transactions per day is: ', round(average,2),'tran/day')"
   ]
  },
  {
   "cell_type": "markdown",
   "metadata": {},
   "source": [
    "We can see that not all the currencies are the same.<br> Let's count how many different currencies are in this file."
   ]
  },
  {
   "cell_type": "code",
   "execution_count": 21,
   "metadata": {},
   "outputs": [
    {
     "name": "stdout",
     "output_type": "stream",
     "text": [
      "We have:  4  different currencies. They are:  ['Auric' 'Electra' 'Zentia' 'Lumina']\n"
     ]
    }
   ],
   "source": [
    "#Number of different currencies\n",
    "print('We have: ',len(df['Currency'].unique()),' different currencies. They are: ',df['Currency'].unique())"
   ]
  },
  {
   "cell_type": "markdown",
   "metadata": {},
   "source": [
    "There are 3 types of transactions."
   ]
  },
  {
   "cell_type": "code",
   "execution_count": 22,
   "metadata": {},
   "outputs": [
    {
     "name": "stdout",
     "output_type": "stream",
     "text": [
      "They are:  ['Purchase' 'Transfer' 'Payment']\n"
     ]
    }
   ],
   "source": [
    "print('They are: ',df['Type'].unique())"
   ]
  },
  {
   "cell_type": "markdown",
   "metadata": {},
   "source": [
    "##### Mean amount of transaction"
   ]
  },
  {
   "cell_type": "code",
   "execution_count": 23,
   "metadata": {},
   "outputs": [
    {
     "data": {
      "text/plain": [
       "Text(0, 0.5, 'Mean of transactions')"
      ]
     },
     "execution_count": 23,
     "metadata": {},
     "output_type": "execute_result"
    },
    {
     "data": {
      "image/png": "[encoded data removed]",
      "text/plain": [
       "<Figure size 1500x500 with 1 Axes>"
      ]
     },
     "metadata": {},
     "output_type": "display_data"
    }
   ],
   "source": [
    "Group_of_currencies=df.drop(['Date', 'Sender', 'Receiver','Type'],axis=1)\n",
    "Group_of_currencies=Group_of_currencies.groupby('Currency',as_index=False).mean()\n",
    "Group_of_currencies=Group_of_currencies.sort_values(['Amount'])\n",
    "# creating the dataset\n",
    "\n",
    "currencies = Group_of_currencies['Currency'].values.tolist()\n",
    "values = Group_of_currencies['Amount'].values.tolist()\n",
    "colors = ['maroon', 'maroon', 'maroon', 'maroon']# for color bars\n",
    "\n",
    "# creating the bar plot\n",
    "plt.figure(figsize=(15, 5))\n",
    "plt.title('Mean of transactions by currency',fontsize=22,weight='bold',y=1.05)\n",
    "bar = plt.bar(currencies, values, color =colors,width = 0.4)\n",
    "plt.bar_label(bar)\n",
    "plt.xlabel('Currencies',fontsize=15)\n",
    "plt.ylabel('Mean of transactions',fontsize=15)"
   ]
  },
  {
   "cell_type": "markdown",
   "metadata": {},
   "source": [
    "##### Information about Senders and Receivers:"
   ]
  },
  {
   "cell_type": "code",
   "execution_count": 24,
   "metadata": {},
   "outputs": [
    {
     "name": "stdout",
     "output_type": "stream",
     "text": [
      "In this table we have: 1103  distinct Senders and:  1099  distinct Receivers.\n"
     ]
    }
   ],
   "source": [
    "print('In this table we have:',len(pd.unique(df['Sender'])), ' distinct Senders and: ',len(pd.unique(df['Receiver'])),' distinct Receivers.')"
   ]
  },
  {
   "cell_type": "code",
   "execution_count": 25,
   "metadata": {},
   "outputs": [
    {
     "name": "stdout",
     "output_type": "stream",
     "text": [
      "Interesting that there are only  18  persons from the Senders column, who are also in the Receivers column. So they are not only sending, but also receiving money.\n"
     ]
    }
   ],
   "source": [
    "list1=df['Receiver'].values.tolist()\n",
    "list2=df['Sender'].values.tolist()\n",
    "res=[]\n",
    "for i in range(len(list1)):\n",
    "    if list1[i] in list2:\n",
    "        res.append(list1[i])\n",
    "print('Interesting that there are only ',len(res),' persons from the Senders column, who are also in the Receivers column. So they are not only sending, but also receiving money.')"
   ]
  },
  {
   "cell_type": "markdown",
   "metadata": {},
   "source": [
    "## 3.1  Detailed consideration<br>\n",
    "In this part I want to draw your attention to the values of the Amount and Fee column. So we will dive deeper into numbers.<br>\n",
    "First of all, we will group our transactions by currency, count them and sum them up."
   ]
  },
  {
   "cell_type": "code",
   "execution_count": 26,
   "metadata": {},
   "outputs": [
    {
     "data": {
      "text/html": [
       "<div>\n",
       "<style scoped>\n",
       "    .dataframe tbody tr th:only-of-type {\n",
       "        vertical-align: middle;\n",
       "    }\n",
       "\n",
       "    .dataframe tbody tr th {\n",
       "        vertical-align: top;\n",
       "    }\n",
       "\n",
       "    .dataframe thead th {\n",
       "        text-align: right;\n",
       "    }\n",
       "</style>\n",
       "<table border=\"1\" class=\"dataframe\">\n",
       "  <thead>\n",
       "    <tr style=\"text-align: right;\">\n",
       "      <th></th>\n",
       "      <th>Currency</th>\n",
       "      <th>Count of transactions</th>\n",
       "      <th>Sum of transactions</th>\n",
       "      <th>Sum of fees</th>\n",
       "    </tr>\n",
       "  </thead>\n",
       "  <tbody>\n",
       "    <tr>\n",
       "      <th>0</th>\n",
       "      <td>Auric</td>\n",
       "      <td>263</td>\n",
       "      <td>129618</td>\n",
       "      <td>6262</td>\n",
       "    </tr>\n",
       "    <tr>\n",
       "      <th>1</th>\n",
       "      <td>Electra</td>\n",
       "      <td>269</td>\n",
       "      <td>134966</td>\n",
       "      <td>7150</td>\n",
       "    </tr>\n",
       "    <tr>\n",
       "      <th>2</th>\n",
       "      <td>Lumina</td>\n",
       "      <td>307</td>\n",
       "      <td>152079</td>\n",
       "      <td>6975</td>\n",
       "    </tr>\n",
       "    <tr>\n",
       "      <th>3</th>\n",
       "      <td>Zentia</td>\n",
       "      <td>271</td>\n",
       "      <td>137188</td>\n",
       "      <td>6819</td>\n",
       "    </tr>\n",
       "  </tbody>\n",
       "</table>\n",
       "</div>"
      ],
      "text/plain": [
       "  Currency  Count of transactions  Sum of transactions  Sum of fees\n",
       "0    Auric                    263               129618         6262\n",
       "1  Electra                    269               134966         7150\n",
       "2   Lumina                    307               152079         6975\n",
       "3   Zentia                    271               137188         6819"
      ]
     },
     "execution_count": 26,
     "metadata": {},
     "output_type": "execute_result"
    }
   ],
   "source": [
    "Group_of_currencies=df.groupby('Currency',as_index=False).count()\n",
    "Group_of_currencies['Count of transactions']=Group_of_currencies['Date']\n",
    "Group_of_currencies['Sum of transactions']=df[['Currency','Amount']].groupby('Currency',as_index=False).sum()['Amount']\n",
    "Group_of_currencies['Sum of fees']=df[['Currency','Fee']].groupby('Currency',as_index=False).sum()['Fee']\n",
    "Group_of_currencies[['Currency','Count of transactions','Sum of transactions','Sum of fees']]"
   ]
  },
  {
   "cell_type": "markdown",
   "metadata": {},
   "source": [
    "Let's create a bar chart from this values"
   ]
  },
  {
   "cell_type": "code",
   "execution_count": 28,
   "metadata": {},
   "outputs": [
    {
     "name": "stderr",
     "output_type": "stream",
     "text": [
      "C:\\Users\\dimpi\\AppData\\Local\\Temp\\ipykernel_10920\\59544360.py:11: MatplotlibDeprecationWarning: Auto-removal of overlapping axes is deprecated since 3.6 and will be removed two minor releases later; explicitly call ax.remove() as needed.\n",
      "  plt.subplot(1, 3, 1)  # row 1, column 3, count 1\n"
     ]
    },
    {
     "data": {
      "image/png": "[encoded data removed]",
      "text/plain": [
       "<Figure size 2000x500 with 3 Axes>"
      ]
     },
     "metadata": {},
     "output_type": "display_data"
    }
   ],
   "source": [
    "# creating the dataset\n",
    "Group_of_currencies=Group_of_currencies.sort_values(['Count of transactions'])\n",
    "currencies = Group_of_currencies['Currency'].values.tolist()\n",
    "values = Group_of_currencies['Count of transactions'].values.tolist()\n",
    "colors = ['maroon', 'goldenrod', 'maroon', 'maroon']# for color bars\n",
    "\n",
    "# creating the bar plot\n",
    "plt.subplots(figsize=(20, 5))\n",
    "plt.suptitle('Transactions details',fontsize=22,weight='bold',y=1.05)\n",
    "# using subplot function and creating plot one\n",
    "plt.subplot(1, 3, 1)  # row 1, column 3, count 1\n",
    "bar = plt.bar(currencies, values, color =colors,width = 0.4)\n",
    "plt.bar_label(bar)\n",
    "plt.title('Count of transactions by currency')\n",
    "plt.ylabel('Count of transactions')\n",
    " \n",
    "# using subplot function and creating plot two\n",
    "# row 1, column 3, count 2\n",
    "plt.subplot(1, 3, 2)\n",
    "Group_of_currencies=Group_of_currencies.sort_values(['Sum of transactions'])\n",
    "currencies = Group_of_currencies['Currency'].values.tolist()\n",
    "values = Group_of_currencies['Sum of transactions'].values.tolist()\n",
    "bar = plt.bar(currencies, values, color =colors,\n",
    "        width = 0.4)\n",
    "plt.bar_label(bar)\n",
    "plt.title('Sum of transactions by currency')\n",
    "plt.xlabel('Currency',fontsize=22)\n",
    "plt.ylabel('Sum of transactions')\n",
    "\n",
    "# using subplot function and creating plot three\n",
    "# row 1, column 3, count 3\n",
    "plt.subplot(1, 3, 3)\n",
    "Group_of_currencies=Group_of_currencies.sort_values(['Sum of fees'])\n",
    "currencies = Group_of_currencies['Currency'].values.tolist()\n",
    "values = Group_of_currencies['Sum of fees'].values.tolist()\n",
    "colors = ['maroon', 'maroon', 'maroon','goldenrod']\n",
    "bar = plt.bar(currencies, values, color =colors,width = 0.4)\n",
    "plt.bar_label(bar)\n",
    "plt.title('Sum of fees by currency')\n",
    "plt.ylabel('Sum of fees')\n",
    " \n",
    "\n",
    "# show plot\n",
    "plt.show()"
   ]
  },
  {
   "cell_type": "markdown",
   "metadata": {},
   "source": [
    "As charts are demonstrating, everything is normal besides <b>Electra</b> currency(yellow bar). <b>Electra</b> currency in this situation is eyecatching because we got more fees to compare with <b>Lumina</b>, despite the fact that we had fewer operations and less Sum of transactions.<br>\n",
    "<b>Electra</b> currency is in the third place by count of transactions and sum of transactions, but in the first place by the sum of fees(income of our bank or other organization)."
   ]
  },
  {
   "cell_type": "markdown",
   "metadata": {},
   "source": [
    "The main question now is why we are getting more fees from <b>Electra</b>? <br><br>\n",
    "The answer is that we are charging more in transactions of <b>Electra</b> than any other currency."
   ]
  },
  {
   "cell_type": "code",
   "execution_count": 30,
   "metadata": {},
   "outputs": [
    {
     "name": "stderr",
     "output_type": "stream",
     "text": [
      "C:\\Users\\dimpi\\AppData\\Local\\Temp\\ipykernel_10920\\3360557298.py:16: MatplotlibDeprecationWarning: Auto-removal of overlapping axes is deprecated since 3.6 and will be removed two minor releases later; explicitly call ax.remove() as needed.\n",
      "  plt.subplot(1, 3, 1)  # row 1, column 3, count 1\n"
     ]
    },
    {
     "data": {
      "image/png": "[encoded data removed]",
      "text/plain": [
       "<Figure size 2000x500 with 3 Axes>"
      ]
     },
     "metadata": {},
     "output_type": "display_data"
    }
   ],
   "source": [
    "#drop unnecessary columns\n",
    "drop_unnes_col=df.drop(['Date', 'Sender', 'Receiver'],axis=1)\n",
    "drop_unnes_col=drop_unnes_col.groupby(by=['Type', 'Currency'],as_index=False).sum()\n",
    "drop_unnes_col['Fee procent']=round(drop_unnes_col['Fee']*100/drop_unnes_col['Amount'],2)\n",
    "\n",
    "# creating the dataset\n",
    "drop_unnes_col=drop_unnes_col.sort_values('Fee procent')\n",
    "currencies = drop_unnes_col[drop_unnes_col['Type']=='Payment']['Currency'].values.tolist()\n",
    "values = drop_unnes_col[drop_unnes_col['Type']=='Payment']['Fee procent'].values.tolist()\n",
    "colors = ['maroon', 'maroon', 'maroon','goldenrod']# for color bars\n",
    "\n",
    "# creating the bar plot\n",
    "plt.subplots(figsize=(20, 5))\n",
    "plt.suptitle('Fee procent details',fontsize=22,weight='bold',y=1.05)\n",
    "# using subplot function and creating plot one\n",
    "plt.subplot(1, 3, 1)  # row 1, column 3, count 1\n",
    "bar = plt.bar(currencies, values, color =colors,width = 0.4)\n",
    "plt.bar_label(bar,labels=[str(value)+'%' for value in values])\n",
    "plt.title('Fee procent in Payments by currency')\n",
    "plt.ylabel('Procent',fontsize=15)\n",
    " \n",
    "# using subplot function and creating plot two\n",
    "# row 1, column 3, count 2\n",
    "plt.subplot(1, 3, 2)\n",
    "currencies = drop_unnes_col[drop_unnes_col['Type']=='Purchase']['Currency'].values.tolist()\n",
    "values = drop_unnes_col[drop_unnes_col['Type']=='Purchase']['Fee procent'].values.tolist()\n",
    "bar = plt.bar(currencies, values, color =colors,\n",
    "        width = 0.4)\n",
    "plt.bar_label(bar,labels=[str(value)+'%' for value in values])\n",
    "plt.title('Fee procent in Purchases by currency')\n",
    "plt.xlabel('Currency',fontsize=22)\n",
    "plt.ylabel('Procent',fontsize=15)\n",
    "\n",
    "# using subplot function and creating plot three\n",
    "# row 1, column 3, count 3\n",
    "plt.subplot(1, 3, 3)\n",
    "currencies = drop_unnes_col[drop_unnes_col['Type']=='Transfer']['Currency'].values.tolist()\n",
    "values = drop_unnes_col[drop_unnes_col['Type']=='Transfer']['Fee procent'].values.tolist()\n",
    "bar = plt.bar(currencies, values, color =colors,width = 0.4)\n",
    "plt.bar_label(bar,labels=[str(value)+'%' for value in values])\n",
    "plt.title('Fee procent in Transfers by currency')\n",
    "plt.ylabel('Procent',fontsize=15)\n",
    " \n",
    "\n",
    "# show plot\n",
    "plt.show()"
   ]
  },
  {
   "cell_type": "markdown",
   "metadata": {},
   "source": [
    "As the chart is illustrated, even the lowest fee of <b>Electra</b> 5.12% is bigger than the highest fee of any currency else. <br><br>That is the key of <b>Electra</b> to the leadership. "
   ]
  },
  {
   "cell_type": "markdown",
   "metadata": {},
   "source": [
    "# 4. Conclusion\n",
    "In this project we cleaned and described the input excel table. Now we can build our own vision of the situation with the financial operations in this data sample.<br>\n",
    "We have also found the leaders in our currencies by all general options.<br> I hope my work made a good impression on you. <br>Thank you for reading."
   ]
  }
 ],
 "metadata": {
  "kernelspec": {
   "display_name": "Python 3",
   "language": "python",
   "name": "python3"
  },
  "language_info": {
   "codemirror_mode": {
    "name": "ipython",
    "version": 3
   },
   "file_extension": ".py",
   "mimetype": "text/x-python",
   "name": "python",
   "nbconvert_exporter": "python",
   "pygments_lexer": "ipython3",
   "version": "3.11.4"
  },
  "orig_nbformat": 4
 },
 "nbformat": 4,
 "nbformat_minor": 2
}
